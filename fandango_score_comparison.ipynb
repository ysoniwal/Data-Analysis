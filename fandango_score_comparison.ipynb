{
 "cells": [
  {
   "cell_type": "markdown",
   "metadata": {},
   "source": [
    "# Basic statistics -- using Fandango movie rating data\n",
    "\n",
    "### Read in the movie review data"
   ]
  },
  {
   "cell_type": "code",
   "execution_count": 1,
   "metadata": {
    "collapsed": true
   },
   "outputs": [],
   "source": [
    "import pandas as pd\n",
    "import numpy as np\n",
    "import matplotlib.pyplot as plt\n",
    "\n",
    "%matplotlib inline\n",
    "movies = pd.read_csv(\"datasets/fandango_score_comparison.csv\")\n",
    "\n",
    "# Color Blind 10 colors with RGB values\n",
    "cb_dark_blue = (0/255.0, 107/255.0, 164/255.0)\n",
    "cb_orange = (255/255.0, 128/255.0, 14/255.0)\n",
    "cb_black = (89/255.0, 89/255.0, 89/255.0)"
   ]
  },
  {
   "cell_type": "markdown",
   "metadata": {},
   "source": [
    "# Create histograms of metacritic and fandango ratings"
   ]
  },
  {
   "cell_type": "code",
   "execution_count": 2,
   "metadata": {
    "collapsed": false
   },
   "outputs": [
    {
     "data": {
      "image/png": "[encoded data removed]",
      "text/plain": [
       "<matplotlib.figure.Figure at 0x10d01e0d0>"
      ]
     },
     "metadata": {},
     "output_type": "display_data"
    }
   ],
   "source": [
    "fig = plt.figure(figsize=(15,5))\n",
    "\n",
    "for i, col_name in enumerate(['Metacritic_norm_round', 'Fandango_Stars']):\n",
    "    ax = fig.add_subplot(1,2,i+1)\n",
    "    ax.hist(movies[col_name], bins = 10, color = cb_dark_blue)\n",
    "    ax.set_xlim(0,5)\n",
    "    ax.set_title(col_name)\n",
    "    ax.set_ylabel('Frequency')\n",
    "\n",
    "    # Remove ticks and spines\n",
    "    ax.tick_params(bottom=\"off\", top=\"off\", left=\"off\", right=\"off\")\n",
    "    for key, val in ax.spines.items():\n",
    "        ax.spines[key].set_visible(False)    \n",
    "\n",
    "plt.show()"
   ]
  },
  {
   "cell_type": "markdown",
   "metadata": {},
   "source": [
    "### As we can see that the Fandango score reviews are concentrated in the region between 3 and 5, which imply that the Fandango reviews may be biased"
   ]
  },
  {
   "cell_type": "markdown",
   "metadata": {},
   "source": [
    "# Mean, median and standatd deviations"
   ]
  },
  {
   "cell_type": "code",
   "execution_count": 3,
   "metadata": {
    "collapsed": false
   },
   "outputs": [],
   "source": [
    "mean_fg = np.mean(movies[\"Fandango_Stars\"])\n",
    "mean_mc = np.mean(movies[\"Metacritic_norm_round\"])\n",
    "\n",
    "median_fg = np.median(movies[\"Fandango_Stars\"])\n",
    "median_mc = np.median(movies[\"Metacritic_norm_round\"])\n",
    "\n",
    "std_fg = np.std(movies[\"Fandango_Stars\"])\n",
    "std_mc = np.std(movies[\"Metacritic_norm_round\"])"
   ]
  },
  {
   "cell_type": "markdown",
   "metadata": {},
   "source": [
    "# Scatter plots to check correlation between Fandango and Metacritic scores"
   ]
  },
  {
   "cell_type": "code",
   "execution_count": 4,
   "metadata": {
    "collapsed": false
   },
   "outputs": [
    {
     "data": {
      "image/png": "[encoded data removed]",
      "text/plain": [
       "<matplotlib.figure.Figure at 0x10d008990>"
      ]
     },
     "metadata": {},
     "output_type": "display_data"
    }
   ],
   "source": [
    "ax = movies.plot(kind = 'scatter', x = 'Fandango_Stars', y = 'Metacritic_norm_round', color = cb_dark_blue)\n",
    "\n",
    "# Remove ticks\n",
    "plt.tick_params(bottom=\"off\", top=\"off\", left=\"off\", right=\"off\")\n",
    "\n",
    "# Remove spines\n",
    "for key, val in ax.spines.items():\n",
    "    ax.spines[key].set_visible(False)\n",
    "    \n",
    "plt.show()"
   ]
  },
  {
   "cell_type": "markdown",
   "metadata": {
    "collapsed": true
   },
   "source": [
    "### From the above plot we observe that for any score in Fandango (3, 3.5, 4.0, 4.5, 5.0), there is wide range of rating in Metacritic (for example spans from 0.5 to 4.5 for Fandango score of 3.5)\n",
    "### Several movies appear to have low ratings in Metacritic and high ratings in Fandango, or vice versa\n",
    "### Let's explore this"
   ]
  },
  {
   "cell_type": "code",
   "execution_count": 5,
   "metadata": {
    "collapsed": false
   },
   "outputs": [
    {
     "name": "stdout",
     "output_type": "stream",
     "text": [
      "Movies with largest difference in Fandango and Metacritic reviews\n"
     ]
    },
    {
     "data": {
      "text/html": [
       "<div>\n",
       "<style>\n",
       "    .dataframe thead tr:only-child th {\n",
       "        text-align: right;\n",
       "    }\n",
       "\n",
       "    .dataframe thead th {\n",
       "        text-align: left;\n",
       "    }\n",
       "\n",
       "    .dataframe tbody tr th {\n",
       "        vertical-align: top;\n",
       "    }\n",
       "</style>\n",
       "<table border=\"1\" class=\"dataframe\">\n",
       "  <thead>\n",
       "    <tr style=\"text-align: right;\">\n",
       "      <th></th>\n",
       "      <th>FILM</th>\n",
       "      <th>fm_diff</th>\n",
       "    </tr>\n",
       "  </thead>\n",
       "  <tbody>\n",
       "    <tr>\n",
       "      <th>3</th>\n",
       "      <td>Do You Believe? (2015)</td>\n",
       "      <td>4.0</td>\n",
       "    </tr>\n",
       "    <tr>\n",
       "      <th>85</th>\n",
       "      <td>Little Boy (2015)</td>\n",
       "      <td>3.0</td>\n",
       "    </tr>\n",
       "    <tr>\n",
       "      <th>47</th>\n",
       "      <td>Annie (2014)</td>\n",
       "      <td>3.0</td>\n",
       "    </tr>\n",
       "    <tr>\n",
       "      <th>19</th>\n",
       "      <td>Pixels (2015)</td>\n",
       "      <td>3.0</td>\n",
       "    </tr>\n",
       "    <tr>\n",
       "      <th>134</th>\n",
       "      <td>The Longest Ride (2015)</td>\n",
       "      <td>3.0</td>\n",
       "    </tr>\n",
       "  </tbody>\n",
       "</table>\n",
       "</div>"
      ],
      "text/plain": [
       "                        FILM  fm_diff\n",
       "3     Do You Believe? (2015)      4.0\n",
       "85         Little Boy (2015)      3.0\n",
       "47              Annie (2014)      3.0\n",
       "19             Pixels (2015)      3.0\n",
       "134  The Longest Ride (2015)      3.0"
      ]
     },
     "execution_count": 5,
     "metadata": {},
     "output_type": "execute_result"
    }
   ],
   "source": [
    "# Compute difference in ratings of Fandango and Metacritic\n",
    "movies['fm_diff'] = movies['Fandango_Stars'] - movies['Metacritic_norm_round']\n",
    "movies['fm_diff'] = np.absolute(movies['fm_diff'])\n",
    "\n",
    "# Get movies with largest difference in ratings\n",
    "movies.sort_values('fm_diff', inplace = True, ascending = False)\n",
    "print('Movies with largest difference in Fandango and Metacritic reviews')\n",
    "movies[['FILM', 'fm_diff']].head()"
   ]
  },
  {
   "cell_type": "markdown",
   "metadata": {},
   "source": [
    "# Correlations between Fandango and Metacritic scores"
   ]
  },
  {
   "cell_type": "code",
   "execution_count": 6,
   "metadata": {
    "collapsed": false
   },
   "outputs": [
    {
     "name": "stdout",
     "output_type": "stream",
     "text": [
      "Correlation coefficient: 0.18\n"
     ]
    }
   ],
   "source": [
    "from scipy import stats\n",
    "\n",
    "corr_fm, p_val_fm = stats.pearsonr(movies['Fandango_Stars'], movies['Metacritic_norm_round'])\n",
    "print(\"Correlation coefficient: {0:.2f}\".format(corr_fm))"
   ]
  },
  {
   "cell_type": "markdown",
   "metadata": {},
   "source": [
    "### The correlation between Fandango and Metacritic scores is very low. It implies that although the Fandango scores seems biased, they are not completely negatively correlated to Metacritic scores. "
   ]
  },
  {
   "cell_type": "markdown",
   "metadata": {},
   "source": [
    "# Fit linear regression model"
   ]
  },
  {
   "cell_type": "code",
   "execution_count": 7,
   "metadata": {
    "collapsed": false
   },
   "outputs": [
    {
     "name": "stdout",
     "output_type": "stream",
     "text": [
      "slope: 0.10\n",
      "intercept: 3.80\n",
      "r_value: 0.18\n",
      "p_value: 0.03\n",
      "std_err: 0.04\n",
      "Prediction: Metacritic 3.0 -- Fandango 4.1\n"
     ]
    }
   ],
   "source": [
    "slope, intercept, r_value, p_value, std_err = stats.linregress(\n",
    "    x = movies['Metacritic_norm_round'], y = movies['Fandango_Stars'])\n",
    "\n",
    "print(\"slope: {0:.2f}\".format(slope))\n",
    "print(\"intercept: {0:.2f}\".format(intercept))\n",
    "print(\"r_value: {0:.2f}\".format(r_value))\n",
    "print(\"p_value: {0:.2f}\".format(p_value))\n",
    "print(\"std_err: {0:.2f}\".format(std_err))\n",
    "\n",
    "# Example prediction of Metacritic 3.0 rating movie in Fandango scale\n",
    "predict_3 = slope * 3.0 + intercept\n",
    "print(\"Prediction: Metacritic 3.0 -- Fandango {0:.1f}\".format(predict_3))"
   ]
  },
  {
   "cell_type": "code",
   "execution_count": 8,
   "metadata": {
    "collapsed": false
   },
   "outputs": [
    {
     "data": {
      "image/png": "[encoded data removed]",
      "text/plain": [
       "<matplotlib.figure.Figure at 0x112bec350>"
      ]
     },
     "metadata": {},
     "output_type": "display_data"
    }
   ],
   "source": [
    "predict_1 = slope * 1.0 + intercept\n",
    "predict_5 = slope * 5.0 + intercept\n",
    "\n",
    "x = [1.0, 5.0]\n",
    "y = [predict_1, predict_5]\n",
    "\n",
    "fig, ax = plt.subplots(figsize=(6,6))\n",
    "ax.plot(x, y, color = cb_black, label = 'predicted')\n",
    "ax.scatter(x = movies['Metacritic_norm_round'], y = movies['Fandango_Stars'], color = cb_dark_blue, label = 'actual')\n",
    "\n",
    "ax.set_xticks([1, 3, 5])\n",
    "ax.set_yticks([3, 4, 5])\n",
    "\n",
    "ax.set_xlabel('Metacritic Score')\n",
    "ax.set_ylabel('Fandango Score')\n",
    "\n",
    "# Remove ticks\n",
    "ax.tick_params(bottom=\"off\", top=\"off\", left=\"off\", right=\"off\")\n",
    "\n",
    "# Remove spines\n",
    "for key, val in ax.spines.items():\n",
    "    ax.spines[key].set_visible(False)\n",
    "   \n",
    "plt.legend(bbox_to_anchor=(1.05, 1), loc = 'upper left', borderaxespad=0.)\n",
    "plt.show()"
   ]
  },
  {
   "cell_type": "code",
   "execution_count": null,
   "metadata": {
    "collapsed": true
   },
   "outputs": [],
   "source": []
  }
 ],
 "metadata": {
  "anaconda-cloud": {},
  "kernelspec": {
   "display_name": "Python [default]",
   "language": "python",
   "name": "python2"
  },
  "language_info": {
   "codemirror_mode": {
    "name": "ipython",
    "version": 2
   },
   "file_extension": ".py",
   "mimetype": "text/x-python",
   "name": "python",
   "nbconvert_exporter": "python",
   "pygments_lexer": "ipython2",
   "version": "2.7.12"
  }
 },
 "nbformat": 4,
 "nbformat_minor": 0
}
