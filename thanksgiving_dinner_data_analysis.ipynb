{
 "cells": [
  {
   "cell_type": "code",
   "execution_count": 1,
   "metadata": {
    "collapsed": false
   },
   "outputs": [],
   "source": [
    "import pandas as pd\n",
    "\n",
    "# Read the csv file of thanksgiving dinner survey\n",
    "data = pd.read_csv(\"datasets/thanksgiving.csv\", encoding = \"Latin-1\")"
   ]
  },
  {
   "cell_type": "code",
   "execution_count": 2,
   "metadata": {
    "collapsed": false
   },
   "outputs": [
    {
     "name": "stdout",
     "output_type": "stream",
     "text": [
      "Index([u'RespondentID', u'Do you celebrate Thanksgiving?',\n",
      "       u'What is typically the main dish at your Thanksgiving dinner?',\n",
      "       u'What is typically the main dish at your Thanksgiving dinner? - Other (please specify)',\n",
      "       u'How is the main dish typically cooked?',\n",
      "       u'How is the main dish typically cooked? - Other (please specify)',\n",
      "       u'What kind of stuffing/dressing do you typically have?',\n",
      "       u'What kind of stuffing/dressing do you typically have? - Other (please specify)',\n",
      "       u'What type of cranberry saucedo you typically have?',\n",
      "       u'What type of cranberry saucedo you typically have? - Other (please specify)',\n",
      "       u'Do you typically have gravy?',\n",
      "       u'Which of these side dishes aretypically served at your Thanksgiving dinner? Please select all that apply. - Brussel sprouts',\n",
      "       u'Which of these side dishes aretypically served at your Thanksgiving dinner? Please select all that apply. - Carrots',\n",
      "       u'Which of these side dishes aretypically served at your Thanksgiving dinner? Please select all that apply. - Cauliflower',\n",
      "       u'Which of these side dishes aretypically served at your Thanksgiving dinner? Please select all that apply. - Corn',\n",
      "       u'Which of these side dishes aretypically served at your Thanksgiving dinner? Please select all that apply. - Cornbread',\n",
      "       u'Which of these side dishes aretypically served at your Thanksgiving dinner? Please select all that apply. - Fruit salad',\n",
      "       u'Which of these side dishes aretypically served at your Thanksgiving dinner? Please select all that apply. - Green beans/green bean casserole',\n",
      "       u'Which of these side dishes aretypically served at your Thanksgiving dinner? Please select all that apply. - Macaroni and cheese',\n",
      "       u'Which of these side dishes aretypically served at your Thanksgiving dinner? Please select all that apply. - Mashed potatoes',\n",
      "       u'Which of these side dishes aretypically served at your Thanksgiving dinner? Please select all that apply. - Rolls/biscuits',\n",
      "       u'Which of these side dishes aretypically served at your Thanksgiving dinner? Please select all that apply. - Squash',\n",
      "       u'Which of these side dishes aretypically served at your Thanksgiving dinner? Please select all that apply. - Vegetable salad',\n",
      "       u'Which of these side dishes aretypically served at your Thanksgiving dinner? Please select all that apply. - Yams/sweet potato casserole',\n",
      "       u'Which of these side dishes aretypically served at your Thanksgiving dinner? Please select all that apply. - Other (please specify)',\n",
      "       u'Which of these side dishes aretypically served at your Thanksgiving dinner? Please select all that apply. - Other (please specify).1',\n",
      "       u'Which type of pie is typically served at your Thanksgiving dinner? Please select all that apply. - Apple',\n",
      "       u'Which type of pie is typically served at your Thanksgiving dinner? Please select all that apply. - Buttermilk',\n",
      "       u'Which type of pie is typically served at your Thanksgiving dinner? Please select all that apply. - Cherry',\n",
      "       u'Which type of pie is typically served at your Thanksgiving dinner? Please select all that apply. - Chocolate',\n",
      "       u'Which type of pie is typically served at your Thanksgiving dinner? Please select all that apply. - Coconut cream',\n",
      "       u'Which type of pie is typically served at your Thanksgiving dinner? Please select all that apply. - Key lime',\n",
      "       u'Which type of pie is typically served at your Thanksgiving dinner? Please select all that apply. - Peach',\n",
      "       u'Which type of pie is typically served at your Thanksgiving dinner? Please select all that apply. - Pecan',\n",
      "       u'Which type of pie is typically served at your Thanksgiving dinner? Please select all that apply. - Pumpkin',\n",
      "       u'Which type of pie is typically served at your Thanksgiving dinner? Please select all that apply. - Sweet Potato',\n",
      "       u'Which type of pie is typically served at your Thanksgiving dinner? Please select all that apply. - None',\n",
      "       u'Which type of pie is typically served at your Thanksgiving dinner? Please select all that apply. - Other (please specify)',\n",
      "       u'Which type of pie is typically served at your Thanksgiving dinner? Please select all that apply. - Other (please specify).1',\n",
      "       u'Which of these desserts do you typically have at Thanksgiving dinner? Please select all that apply.   - Apple cobbler',\n",
      "       u'Which of these desserts do you typically have at Thanksgiving dinner? Please select all that apply.   - Blondies',\n",
      "       u'Which of these desserts do you typically have at Thanksgiving dinner? Please select all that apply.   - Brownies',\n",
      "       u'Which of these desserts do you typically have at Thanksgiving dinner? Please select all that apply.   - Carrot cake',\n",
      "       u'Which of these desserts do you typically have at Thanksgiving dinner? Please select all that apply.   - Cheesecake',\n",
      "       u'Which of these desserts do you typically have at Thanksgiving dinner? Please select all that apply.   - Cookies',\n",
      "       u'Which of these desserts do you typically have at Thanksgiving dinner? Please select all that apply.   - Fudge',\n",
      "       u'Which of these desserts do you typically have at Thanksgiving dinner? Please select all that apply.   - Ice cream',\n",
      "       u'Which of these desserts do you typically have at Thanksgiving dinner? Please select all that apply.   - Peach cobbler',\n",
      "       u'Which of these desserts do you typically have at Thanksgiving dinner? Please select all that apply.   - None',\n",
      "       u'Which of these desserts do you typically have at Thanksgiving dinner? Please select all that apply.   - Other (please specify)',\n",
      "       u'Which of these desserts do you typically have at Thanksgiving dinner? Please select all that apply.   - Other (please specify).1',\n",
      "       u'Do you typically pray before or after the Thanksgiving meal?',\n",
      "       u'How far will you travel for Thanksgiving?',\n",
      "       u'Will you watch any of the following programs on Thanksgiving? Please select all that apply. - Macy's Parade',\n",
      "       u'What's the age cutoff at your \"kids' table\" at Thanksgiving?',\n",
      "       u'Have you ever tried to meet up with hometown friends on Thanksgiving night?',\n",
      "       u'Have you ever attended a \"Friendsgiving?\"',\n",
      "       u'Will you shop any Black Friday sales on Thanksgiving Day?',\n",
      "       u'Do you work in retail?',\n",
      "       u'Will you employer make you work on Black Friday?',\n",
      "       u'How would you describe where you live?', u'Age',\n",
      "       u'What is your gender?',\n",
      "       u'How much total combined money did all members of your HOUSEHOLD earn last year?',\n",
      "       u'US Region'],\n",
      "      dtype='object')\n"
     ]
    }
   ],
   "source": [
    "# Display column names\n",
    "col_names = data.columns\n",
    "print(col_names)"
   ]
  },
  {
   "cell_type": "code",
   "execution_count": 3,
   "metadata": {
    "collapsed": false
   },
   "outputs": [
    {
     "name": "stdout",
     "output_type": "stream",
     "text": [
      "Yes    980\n",
      "No      78\n",
      "Name: Do you celebrate Thanksgiving?, dtype: int64\n",
      "980\n"
     ]
    }
   ],
   "source": [
    "# Keeping data for people who celebrate thanksgiving\n",
    "# (Keeping only the rows where the response is \"Yes\")\n",
    "celebrates_thanksgiving = data[\"Do you celebrate Thanksgiving?\"] == \"Yes\"\n",
    "thanksgiving_celebrate_data = data.loc[celebrates_thanksgiving, :]\n",
    "\n",
    "# Cross verifying \n",
    "print(data[\"Do you celebrate Thanksgiving?\"].value_counts())\n",
    "print((thanksgiving_celebrate_data.shape)[0])"
   ]
  },
  {
   "cell_type": "code",
   "execution_count": 4,
   "metadata": {
    "collapsed": false
   },
   "outputs": [
    {
     "name": "stdout",
     "output_type": "stream",
     "text": [
      "Turkey                    859\n",
      "Other (please specify)     35\n",
      "Ham/Pork                   29\n",
      "Tofurkey                   20\n",
      "Chicken                    12\n",
      "Roast beef                 11\n",
      "I don't know                5\n",
      "Turducken                   3\n",
      "Name: What is typically the main dish at your Thanksgiving dinner?, dtype: int64\n"
     ]
    }
   ],
   "source": [
    "# Exploring main dishes\n",
    "print(thanksgiving_celebrate_data[\"What is typically the main dish at your Thanksgiving dinner?\"].value_counts())"
   ]
  },
  {
   "cell_type": "code",
   "execution_count": 11,
   "metadata": {
    "collapsed": false
   },
   "outputs": [
    {
     "data": {
      "text/plain": [
       "Yes    12\n",
       "No      8\n",
       "Name: Do you typically have gravy?, dtype: int64"
      ]
     },
     "execution_count": 11,
     "metadata": {},
     "output_type": "execute_result"
    }
   ],
   "source": [
    "# Exploring gravy Tofurkey dish\n",
    "is_dish_tofurkey = thanksgiving_celebrate_data[\"What is typically the main dish at your Thanksgiving dinner?\"] == \"Tofurkey\"\n",
    "tofurkey = thanksgiving_celebrate_data.loc[is_dish_tofurkey,:]\n",
    "\n",
    "# Display counts of gravy and non-gravy tofurkey dishes\n",
    "tofurkey[\"Do you typically have gravy?\"].value_counts()"
   ]
  },
  {
   "cell_type": "code",
   "execution_count": 12,
   "metadata": {
    "collapsed": false
   },
   "outputs": [
    {
     "name": "stdout",
     "output_type": "stream",
     "text": [
      "False    0.893878\n",
      "True     0.106122\n",
      "dtype: float64\n"
     ]
    }
   ],
   "source": [
    "# Exploring Pies ate on thanksgiving\n",
    "apple_isnull = thanksgiving_celebrate_data[\"Which type of pie is typically served at your Thanksgiving dinner? Please select all that apply. - Apple\"].isnull()\n",
    "pumpkin_isnull = thanksgiving_celebrate_data[\"Which type of pie is typically served at your Thanksgiving dinner? Please select all that apply. - Pumpkin\"].isnull()\n",
    "pecan_isnull = thanksgiving_celebrate_data[\"Which type of pie is typically served at your Thanksgiving dinner? Please select all that apply. - Pecan\"].isnull()\n",
    "\n",
    "ate_pies = (apple_isnull) & (pumpkin_isnull) & (pecan_isnull)\n",
    "\n",
    "# Fraction of people who didn't eat any of the pie\n",
    "print(ate_pies.value_counts(normalize = True))"
   ]
  },
  {
   "cell_type": "code",
   "execution_count": 13,
   "metadata": {
    "collapsed": false
   },
   "outputs": [],
   "source": [
    "# Converting age to numbers\n",
    "def convert_age_to_int(string):\n",
    "    # If string is null -  then return None\n",
    "    if pd.isnull(string):\n",
    "        return None\n",
    "    else:\n",
    "        # Otherwise split at space and extract the \n",
    "        # first element\n",
    "        strings = string.split(\" \")\n",
    "        age = strings[0]\n",
    "        # If \"Age\" is of the format of \"60+\", then\n",
    "        # remove the + sign\n",
    "        age = age.replace(\"+\", \"\")\n",
    "        return int(age)"
   ]
  },
  {
   "cell_type": "code",
   "execution_count": 14,
   "metadata": {
    "collapsed": false
   },
   "outputs": [
    {
     "data": {
      "text/plain": [
       "count    1025.000000\n",
       "mean       39.383415\n",
       "std        15.398493\n",
       "min        18.000000\n",
       "25%              NaN\n",
       "50%              NaN\n",
       "75%              NaN\n",
       "max        60.000000\n",
       "Name: int_age, dtype: float64"
      ]
     },
     "execution_count": 14,
     "metadata": {},
     "output_type": "execute_result"
    }
   ],
   "source": [
    "ages = data[\"Age\"]\n",
    "data[\"int_age\"] = ages.apply(convert_age_to_int)\n",
    "data[\"int_age\"].describe()"
   ]
  },
  {
   "cell_type": "code",
   "execution_count": 15,
   "metadata": {
    "collapsed": false
   },
   "outputs": [],
   "source": [
    "# Converting income to integers\n",
    "def convert_income_to_int(string):\n",
    "    # If the income col is emply, then return None\n",
    "    if pd.isnull(string):\n",
    "        return None\n",
    "    else:\n",
    "        # Otherwise split income string at space\n",
    "        # and extract first word\n",
    "        strings = string.split(\" \")\n",
    "        first_word = strings[0]\n",
    "        \n",
    "        if first_word == \"Prefer\":\n",
    "            return None\n",
    "        else:\n",
    "            # Remove \",\" and \"$\"\n",
    "            first_word = first_word.replace(\"$\", \"\")\n",
    "            first_word = first_word.replace(\",\", \"\")\n",
    "            \n",
    "            # convert string to int\n",
    "            income = int(first_word)\n",
    "            return income"
   ]
  },
  {
   "cell_type": "code",
   "execution_count": 16,
   "metadata": {
    "collapsed": false
   },
   "outputs": [
    {
     "data": {
      "text/plain": [
       "count       889.000000\n",
       "mean      74077.615298\n",
       "std       59360.742902\n",
       "min           0.000000\n",
       "25%                NaN\n",
       "50%                NaN\n",
       "75%                NaN\n",
       "max      200000.000000\n",
       "Name: int_income, dtype: float64"
      ]
     },
     "execution_count": 16,
     "metadata": {},
     "output_type": "execute_result"
    }
   ],
   "source": [
    "# Extract incomes column\n",
    "incomes = data[\"How much total combined money did all members of your HOUSEHOLD earn last year?\"]\n",
    "\n",
    "# Convert incomes to integers\n",
    "data[\"int_income\"] = incomes.apply(convert_income_to_int)\n",
    "\n",
    "data[\"int_income\"].describe()"
   ]
  },
  {
   "cell_type": "code",
   "execution_count": 17,
   "metadata": {
    "collapsed": false
   },
   "outputs": [
    {
     "data": {
      "text/plain": [
       "Thanksgiving is happening at my home--I won't travel at all                         281\n",
       "Thanksgiving is local--it will take place in the town I live in                     203\n",
       "Thanksgiving is out of town but not too far--it's a drive of a few hours or less    150\n",
       "Thanksgiving is out of town and far away--I have to drive several hours or fly       55\n",
       "Name: How far will you travel for Thanksgiving?, dtype: int64"
      ]
     },
     "execution_count": 17,
     "metadata": {},
     "output_type": "execute_result"
    }
   ],
   "source": [
    "# Find relation between income and travel data for\n",
    "# thanksgiving (hypothesis: people earning less are\n",
    "# young and will celebrate thanksgiving at parents\n",
    "# house and people earning more will celebrate at \n",
    "# their own house)\n",
    "\n",
    "# Extract data for income less than 150,000\n",
    "is_income_less_150k = data[\"int_income\"] < 150000\n",
    "income_less_150k_data = data.loc[is_income_less_150k]\n",
    "\n",
    "dist_travel_income_less_150k = income_less_150k_data[\"How far will you travel for Thanksgiving?\"]\n",
    "dist_travel_income_less_150k.value_counts()"
   ]
  },
  {
   "cell_type": "code",
   "execution_count": 18,
   "metadata": {
    "collapsed": false
   },
   "outputs": [
    {
     "data": {
      "text/plain": [
       "Thanksgiving is happening at my home--I won't travel at all                         49\n",
       "Thanksgiving is local--it will take place in the town I live in                     25\n",
       "Thanksgiving is out of town but not too far--it's a drive of a few hours or less    16\n",
       "Thanksgiving is out of town and far away--I have to drive several hours or fly      12\n",
       "Name: How far will you travel for Thanksgiving?, dtype: int64"
      ]
     },
     "execution_count": 18,
     "metadata": {},
     "output_type": "execute_result"
    }
   ],
   "source": [
    "# Extract data for income more than 150,000\n",
    "is_income_more_150k = data[\"int_income\"] > 150000\n",
    "income_more_150k_data = data.loc[is_income_more_150k]\n",
    "\n",
    "dist_travel_income_more_150k = income_more_150k_data[\"How far will you travel for Thanksgiving?\"]\n",
    "dist_travel_income_more_150k.value_counts()"
   ]
  },
  {
   "cell_type": "code",
   "execution_count": 19,
   "metadata": {
    "collapsed": false
   },
   "outputs": [
    {
     "name": "stdout",
     "output_type": "stream",
     "text": [
      "Friendsgiving?                   No        Yes\n",
      "Meetup hometown friends?                      \n",
      "No                        42.283702  37.010526\n",
      "Yes                       41.475410  33.976744\n"
     ]
    }
   ],
   "source": [
    "# Linking friendship and age\n",
    "\n",
    "friendship_and_age = data.pivot_table(index = \"Have you ever tried to meet up with hometown friends on Thanksgiving night?\", \n",
    "                                     columns = 'Have you ever attended a \"Friendsgiving?\"',\n",
    "                                     values = \"int_age\")\n",
    "\n",
    "friendship_and_age.index.name = \"Meetup hometown friends?\"\n",
    "friendship_and_age.columns.name = \"Friendsgiving?\"\n",
    "print(friendship_and_age)"
   ]
  },
  {
   "cell_type": "code",
   "execution_count": 20,
   "metadata": {
    "collapsed": false
   },
   "outputs": [
    {
     "name": "stdout",
     "output_type": "stream",
     "text": [
      "Friendsgiving?                      No           Yes\n",
      "Meetup hometown friends?                            \n",
      "No                        78914.549654  72894.736842\n",
      "Yes                       78750.000000  66019.736842\n"
     ]
    }
   ],
   "source": [
    "# Linking friendship and income\n",
    "\n",
    "friendship_and_income = data.pivot_table(index = \"Have you ever tried to meet up with hometown friends on Thanksgiving night?\", \n",
    "                                         columns = 'Have you ever attended a \"Friendsgiving?\"',\n",
    "                                         values = \"int_income\")\n",
    "friendship_and_income.index.name = \"Meetup hometown friends?\"\n",
    "friendship_and_income.columns.name = \"Friendsgiving?\"\n",
    "print(friendship_and_income)"
   ]
  },
  {
   "cell_type": "code",
   "execution_count": null,
   "metadata": {
    "collapsed": true
   },
   "outputs": [],
   "source": []
  }
 ],
 "metadata": {
  "anaconda-cloud": {},
  "kernelspec": {
   "display_name": "Python [conda root]",
   "language": "python",
   "name": "conda-root-py"
  },
  "language_info": {
   "codemirror_mode": {
    "name": "ipython",
    "version": 2
   },
   "file_extension": ".py",
   "mimetype": "text/x-python",
   "name": "python",
   "nbconvert_exporter": "python",
   "pygments_lexer": "ipython2",
   "version": "2.7.12"
  }
 },
 "nbformat": 4,
 "nbformat_minor": 0
}
