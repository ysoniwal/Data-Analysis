{
 "cells": [
  {
   "cell_type": "markdown",
   "metadata": {},
   "source": [
    "# Analysis of gun deaths dataset in US from 2012 to 2014\n",
    "\n",
    "+ The data set if available [here](https://github.com/fivethirtyeight/guns-data)\n",
    "+ Data description\n",
    "  + '' - id\n",
    "  + 'year' - the year in which the fatality occurred\n",
    "  + 'month' - the month in which the fatality occurred\n",
    "  + 'intent' - the intent of the perpetrator of the crime. This can be:\n",
    "    + Suicide\n",
    "    + Accidental\n",
    "    + Homicide\n",
    "    + Undetermined\n",
    "    + NA\n",
    "  + 'police' - whether a police officer was involved with the shooting. Either 0 (false) or 1 (true)\n",
    "  + 'sex' -  the gender of the victim. Either M or F\n",
    "  + 'age' - the age of the victim\n",
    "  + 'race' - the race of the victim. Can be one of the following:\n",
    "    + Asian/Pacific Islander\n",
    "    + Native American/Native Alaskan\n",
    "    + Black\n",
    "    + Hispanic\n",
    "    + White\n",
    "  + 'hispanic' - a code indicating the Hispanic origin of the victim\n",
    "  + 'place' - where the shooting occurred\n",
    "  + 'education' - educational status of the victim. Can be one of the following:\n",
    "    + 1 -- Less than High School\n",
    "    + 2 -- Graduated from High School or equivalent\n",
    "    + 3 -- Some College\n",
    "    + 4 -- At least graduated from College\n",
    "    + 5 -- Not available\n"
   ]
  },
  {
   "cell_type": "code",
   "execution_count": 14,
   "metadata": {
    "collapsed": false
   },
   "outputs": [],
   "source": [
    "import csv\n",
    "# Read the dataset using csv reader\n",
    "f = open(\"datasets/guns.csv\", \"r\")\n",
    "csv_reader = csv.reader(f)\n",
    "\n",
    "# list of list from csv file (including header)\n",
    "data_with_header = list(csv_reader)\n",
    "# Remove the header\n",
    "header = data_with_header[0]\n",
    "\n",
    "# Data without header\n",
    "data = data_with_header[1:len(data_with_header)]"
   ]
  },
  {
   "cell_type": "code",
   "execution_count": 2,
   "metadata": {
    "collapsed": false,
    "scrolled": true
   },
   "outputs": [],
   "source": [
    "# Count deaths by year\n",
    "def count_deaths_year():\n",
    "    death_years = dict()\n",
    "    \n",
    "    for row in data:\n",
    "        # Extract year from the current row\n",
    "        year = int(row[1])\n",
    "        \n",
    "        if year not in death_years:\n",
    "            death_years[year] = 1\n",
    "        else:\n",
    "            death_years[year] += 1\n",
    "    \n",
    "    return death_years"
   ]
  },
  {
   "cell_type": "code",
   "execution_count": 3,
   "metadata": {
    "collapsed": false
   },
   "outputs": [
    {
     "name": "stdout",
     "output_type": "stream",
     "text": [
      "{2012: 33563, 2013: 33636, 2014: 33599}\n"
     ]
    }
   ],
   "source": [
    "year_counts = count_deaths_year()\n",
    "print(year_counts)"
   ]
  },
  {
   "cell_type": "code",
   "execution_count": 4,
   "metadata": {
    "collapsed": true
   },
   "outputs": [],
   "source": [
    "# Count deaths by months and years\n",
    "# For this we create a datetime object using \n",
    "# date and month columns and then count deaths\n",
    "# for each datetime object\n",
    "import datetime\n",
    "\n",
    "def count_deaths_month_year():\n",
    "    # Create a list comprehension of datetime objects from \n",
    "    # year and month column\n",
    "    date_time = [datetime.datetime(year = int(row[1]), month = int(row[2]), day = 1) for row in data]\n",
    "    \n",
    "    # dict containing deaths on a month, year (keys in the\n",
    "    # dict are unique datetime objects)\n",
    "    date_counts = dict()\n",
    "    for date in date_time:\n",
    "        if date not in date_counts:\n",
    "            date_counts[date] = 1\n",
    "        else:\n",
    "            date_counts[date] += 1\n",
    "    \n",
    "    return date_counts"
   ]
  },
  {
   "cell_type": "code",
   "execution_count": 5,
   "metadata": {
    "collapsed": false
   },
   "outputs": [],
   "source": [
    "date_counts = count_deaths_month_year()"
   ]
  },
  {
   "cell_type": "code",
   "execution_count": 6,
   "metadata": {
    "collapsed": false
   },
   "outputs": [],
   "source": [
    "# Count deaths by sex\n",
    "def count_deaths_sex():\n",
    "    # list comprehension to extract sex of all deaths\n",
    "    genders = [row[5] for row in data]\n",
    "    \n",
    "    # dict contaning deaths of each sex\n",
    "    sex_counts = dict()\n",
    "    for gender in genders:\n",
    "        if gender not in sex_counts:\n",
    "            sex_counts[gender] = 1\n",
    "        else:\n",
    "            sex_counts[gender] += 1\n",
    "    \n",
    "    return sex_counts\n",
    "\n",
    "# Count deaths by race\n",
    "def count_deaths_race():\n",
    "    # list comprehension to get races from the data\n",
    "    races = [row[7] for row in data]\n",
    "    \n",
    "    # dict contaning deaths of each race\n",
    "    race_counts = dict()\n",
    "    for race in races:\n",
    "        if race not in race_counts:\n",
    "            race_counts[race] = 1\n",
    "        else:\n",
    "            race_counts[race] += 1\n",
    "            \n",
    "    return race_counts"
   ]
  },
  {
   "cell_type": "code",
   "execution_count": 7,
   "metadata": {
    "collapsed": false
   },
   "outputs": [
    {
     "name": "stdout",
     "output_type": "stream",
     "text": [
      "{'M': 86349, 'F': 14449}\n",
      "{'Native American/Native Alaskan': 917, 'Black': 23296, 'White': 66237, 'Asian/Pacific Islander': 1326, 'Hispanic': 9022}\n"
     ]
    }
   ],
   "source": [
    "sex_counts = count_deaths_sex()\n",
    "print(sex_counts)\n",
    "race_counts = count_deaths_race()\n",
    "print(race_counts)"
   ]
  },
  {
   "cell_type": "markdown",
   "metadata": {},
   "source": [
    "To get the death count for each race per hundred 1000\n",
    "we need census data to get the population of each race"
   ]
  },
  {
   "cell_type": "code",
   "execution_count": 15,
   "metadata": {
    "collapsed": false
   },
   "outputs": [],
   "source": [
    "# Read the census data\n",
    "f = open(\"datasets/census.csv\", \"r\")\n",
    "csv_reader = csv.reader(f)\n",
    "census = list(csv_reader)"
   ]
  },
  {
   "cell_type": "code",
   "execution_count": 16,
   "metadata": {
    "collapsed": false
   },
   "outputs": [
    {
     "name": "stdout",
     "output_type": "stream",
     "text": [
      "{'Native American/Native Alaskan': 3739506, 'Hispanic': 44618105, 'White': 197318956, 'Asian/Pacific Islander': 15834141, 'Black': 40250635}\n"
     ]
    }
   ],
   "source": [
    "# Count population of each race\n",
    "# We need a dict with same keys as race_counts\n",
    "population_races = dict()\n",
    "population_races[\"White\"] = int(census[1][10])\n",
    "population_races[\"Native American/Native Alaskan\"] = int(census[1][13])\n",
    "population_races[\"Hispanic\"] = int(census[1][11])\n",
    "population_races[\"Black\"] = int(census[1][12])\n",
    "population_races[\"Asian/Pacific Islander\"] = int(census[1][14]) + int(census[1][15])\n",
    "print(population_races)"
   ]
  },
  {
   "cell_type": "code",
   "execution_count": 17,
   "metadata": {
    "collapsed": false,
    "scrolled": true
   },
   "outputs": [
    {
     "name": "stdout",
     "output_type": "stream",
     "text": [
      "{'Native American/Native Alaskan': 0, 'Asian/Pacific Islander': 0, 'White': 0, 'Black': 0, 'Hispanic': 0}\n"
     ]
    }
   ],
   "source": [
    "# Count death by race in every 100k people for each race\n",
    "race_per_hundredk = dict()\n",
    "\n",
    "for race, count in race_counts.items():\n",
    "    race_per_hundredk[race] = (count / population_races[race]) * 100000\n",
    "print(race_per_hundredk)"
   ]
  },
  {
   "cell_type": "code",
   "execution_count": 18,
   "metadata": {
    "collapsed": false
   },
   "outputs": [],
   "source": [
    "# Filtering intent (using races for 'Homicide' only)\n",
    "def count_deaths_races_intent():\n",
    "    race_counts = dict()\n",
    "    \n",
    "    for row in data:\n",
    "        race = row[7]\n",
    "        intent = row[3]\n",
    "        \n",
    "        if intent == \"Homicide\":\n",
    "            if race not in race_counts:\n",
    "                race_counts[race] = 1\n",
    "            else:\n",
    "                race_counts[race] += 1\n",
    "    return race_counts\n"
   ]
  },
  {
   "cell_type": "code",
   "execution_count": 19,
   "metadata": {
    "collapsed": false
   },
   "outputs": [
    {
     "name": "stdout",
     "output_type": "stream",
     "text": [
      "{'Native American/Native Alaskan': 326, 'Black': 19510, 'White': 9147, 'Asian/Pacific Islander': 559, 'Hispanic': 5634}\n"
     ]
    }
   ],
   "source": [
    "race_counts_homicide = count_deaths_races_intent()\n",
    "print(race_counts_homicide)"
   ]
  },
  {
   "cell_type": "code",
   "execution_count": 20,
   "metadata": {
    "collapsed": false
   },
   "outputs": [
    {
     "name": "stdout",
     "output_type": "stream",
     "text": [
      "{'Native American/Native Alaskan': 0, 'Asian/Pacific Islander': 0, 'White': 0, 'Black': 0, 'Hispanic': 0}\n"
     ]
    }
   ],
   "source": [
    "# Count deaths for race \"Homicide\" in every 100k people for each race\n",
    "homicide_race_per_hundredk = dict()\n",
    "\n",
    "for race, count in race_counts_homicide.items():\n",
    "    homicide_race_per_hundredk[race] = (count / population_races[race]) * 100000\n",
    "print(homicide_race_per_hundredk)"
   ]
  },
  {
   "cell_type": "code",
   "execution_count": null,
   "metadata": {
    "collapsed": true
   },
   "outputs": [],
   "source": []
  }
 ],
 "metadata": {
  "anaconda-cloud": {},
  "celltoolbar": "Raw Cell Format",
  "kernelspec": {
   "display_name": "Python [conda root]",
   "language": "python",
   "name": "conda-root-py"
  },
  "language_info": {
   "codemirror_mode": {
    "name": "ipython",
    "version": 2
   },
   "file_extension": ".py",
   "mimetype": "text/x-python",
   "name": "python",
   "nbconvert_exporter": "python",
   "pygments_lexer": "ipython2",
   "version": "2.7.12"
  }
 },
 "nbformat": 4,
 "nbformat_minor": 0
}
